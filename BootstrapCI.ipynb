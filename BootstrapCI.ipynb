{
  "nbformat": 4,
  "nbformat_minor": 0,
  "metadata": {
    "colab": {
      "name": "BootstrapCI.ipynb",
      "provenance": [],
      "collapsed_sections": [],
      "authorship_tag": "ABX9TyPgKGpS4zsPbWVgj6LH5Z2d",
      "include_colab_link": true
    },
    "kernelspec": {
      "name": "python3",
      "display_name": "Python 3"
    }
  },
  "cells": [
    {
      "cell_type": "markdown",
      "metadata": {
        "id": "view-in-github",
        "colab_type": "text"
      },
      "source": [
        "<a href=\"https://colab.research.google.com/github/ajnasaju3/ai/blob/master/BootstrapCI.ipynb\" target=\"_parent\"><img src=\"https://colab.research.google.com/assets/colab-badge.svg\" alt=\"Open In Colab\"/></a>"
      ]
    },
    {
      "cell_type": "code",
      "metadata": {
        "id": "m00ctvrtDppb",
        "outputId": "c0fc7dc9-a9dc-4cc0-ff3b-b7158ec5fb84",
        "colab": {
          "base_uri": "https://localhost:8080/",
          "height": 286
        }
      },
      "source": [
        "import numpy\n",
        "from pandas import read_csv\n",
        "from sklearn.utils import resample\n",
        "from sklearn.metrics import accuracy_score\n",
        "from matplotlib import pyplot\n",
        "\n",
        "x=numpy.array([180,162,158,172,168,150,171,183,165,176])\n",
        "\n",
        "n_iterations=1000\n",
        "n_size=int(len(x))\n",
        "\n",
        "medians=list()\n",
        "for i in range(n_iterations):\n",
        "  s=resample(x,n_samples=n_size)\n",
        "  m=numpy.median(s)\n",
        "  medians.append(m)\n",
        "\n",
        "pyplot.hist(medians)\n",
        "pyplot.show()\n",
        "\n",
        "alpha=0.95\n",
        "p=((1-alpha)/2)*100\n",
        "lower=numpy.percentile(medians,p)\n",
        "\n",
        "p=(alpha+((1-alpha)/2))*100\n",
        "upper=numpy.percentile(medians,p)\n",
        "print('%.1f confidence interval %.1f and %.1f' % (alpha*100,lower,upper))\n"
      ],
      "execution_count": 1,
      "outputs": [
        {
          "output_type": "display_data",
          "data": {
            "image/png": "[encoded data removed]",
            "text/plain": [
              "<Figure size 432x288 with 1 Axes>"
            ]
          },
          "metadata": {
            "tags": [],
            "needs_background": "light"
          }
        },
        {
          "output_type": "stream",
          "text": [
            "95.0 confidence interval 161.5 and 176.0\n"
          ],
          "name": "stdout"
        }
      ]
    },
    {
      "cell_type": "code",
      "metadata": {
        "id": "Q8appZr6MdGQ"
      },
      "source": [
        ""
      ],
      "execution_count": null,
      "outputs": []
    }
  ]
}